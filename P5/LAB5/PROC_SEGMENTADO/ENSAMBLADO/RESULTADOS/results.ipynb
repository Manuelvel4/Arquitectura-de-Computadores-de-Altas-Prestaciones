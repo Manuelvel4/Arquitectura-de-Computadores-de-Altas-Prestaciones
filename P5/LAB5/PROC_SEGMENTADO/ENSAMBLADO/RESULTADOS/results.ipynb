{
 "cells": [
  {
   "cell_type": "code",
   "execution_count": null,
   "metadata": {},
   "outputs": [
    {
     "name": "stdout",
     "output_type": "stream",
     "text": [
      "riesgo de datos = 41 /n riesgo de seq = 64\n",
      "ciclos Count\n",
      "3        9\n",
      "4        3\n",
      "2        1\n",
      "Name: count, dtype: int64\n",
      "inst finalizadas: 104\n",
      "inst seq = 32\n"
     ]
    }
   ],
   "source": [
    "import re\n",
    "import pandas as pd\n",
    "path = \"resultados_ejecucion_euclides_.txt\"\n",
    "pattern = r'RD:\\s+[01]\\s+RS:\\s+[01]'\n",
    "rd = 0\n",
    "rs = 0\n",
    "rd_ciclos = []\n",
    "inst_uniques = []\n",
    "etapa_e = []\n",
    "cond_rd_1 = \"RD:  1  RS:  1\"\n",
    "cond_rd_2 = \"RD:  1  RS:  0\"\n",
    "cond_rs = \"RD:  0  RS:  1\"\n",
    "count = 0\n",
    "count_s = 0\n",
    "inst = 0\n",
    "inst_s = 0\n",
    "inst_end = 0\n",
    "df = pd.DataFrame(columns=[\"INST\", \"DL\"])\n",
    "cont = pd.DataFrame(columns=[\"Count\"])\n",
    "with open(\"resultados_ejecucion_euclides_.txt\", 'r') as file:\n",
    "    f = file.readlines()\n",
    "    for i, e in enumerate(f):\n",
    "        if re.findall(pattern, e):\n",
    "            \n",
    "            if cond_rd_1 in e or cond_rd_2 in e :rd +=1;count +=1\n",
    "            elif count > 0 and cond_rd_1 in f[i-1] or cond_rd_2 in f[i-1]: \n",
    "                cont = pd.concat([cont, pd.DataFrame({\"Count\": [count]})], ignore_index=True)\n",
    "                count = 0\n",
    "\n",
    "            if cond_rs in e: rs +=1\n",
    "\n",
    "            if \"| DL  |\" in e[49:56]: \n",
    "                df = pd.concat([df, pd.DataFrame({\"INST\": [f[i][49:56]], \"DL\": [e[49:56]]})], ignore_index=True)\n",
    "                if cond_rs in e: inst_s +=1\n",
    "                \n",
    "\n",
    "print(f\"riesgo de datos = {rd} /n riesgo de seq = {rs}\")  \n",
    "print(f\"ciclos {cont.value_counts()}\")      \n",
    "print(f\"inst finalizadas: {len(df)}\")\n",
    "print(f\"inst seq = {inst_s}\")\n"
   ]
  },
  {
   "cell_type": "code",
   "execution_count": 35,
   "metadata": {},
   "outputs": [
    {
     "data": {
      "text/plain": [
       "Count\n",
       "3        9\n",
       "4        3\n",
       "2        1\n",
       "Name: count, dtype: int64"
      ]
     },
     "execution_count": 35,
     "metadata": {},
     "output_type": "execute_result"
    }
   ],
   "source": [
    "cont.value_counts()"
   ]
  }
 ],
 "metadata": {
  "kernelspec": {
   "display_name": "Python 3",
   "language": "python",
   "name": "python3"
  },
  "language_info": {
   "codemirror_mode": {
    "name": "ipython",
    "version": 3
   },
   "file_extension": ".py",
   "mimetype": "text/x-python",
   "name": "python",
   "nbconvert_exporter": "python",
   "pygments_lexer": "ipython3",
   "version": "3.10.11"
  }
 },
 "nbformat": 4,
 "nbformat_minor": 2
}
